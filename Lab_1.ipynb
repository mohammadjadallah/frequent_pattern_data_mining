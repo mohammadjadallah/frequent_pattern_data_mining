{
 "cells": [
  {
   "cell_type": "markdown",
   "metadata": {},
   "source": [
    "# Data mining lab\n",
    "# Data science programming languages lab\n",
    "\n",
    "\n",
    "* Lab 00: Python - revisited - Part 1"
   ]
  },
  {
   "cell_type": "markdown",
   "metadata": {},
   "source": [
    "# Task 1\n",
    "Write a Python program to get the Python version you are using, and to display the current time and data in the system.\n",
    "\n",
    "<!--\n",
    "import sys\n",
    "import datetime\n",
    "\n",
    "print(\"Python version\")\n",
    "print (sys.version)\n",
    "print(\"Version info.\")\n",
    "print (sys.version_info) \n",
    "\n",
    "\n",
    "now = datetime.datetime.now()\n",
    "print (\"Current date and time : \")\n",
    "print (now.strftime(\"%Y-%m-%d %H:%M:%S\"))\n",
    "\n",
    "-->"
   ]
  },
  {
   "cell_type": "code",
   "execution_count": 8,
   "metadata": {},
   "outputs": [
    {
     "name": "stdout",
     "output_type": "stream",
     "text": [
      "3.8.5 (default, Sep  3 2020, 21:29:08) [MSC v.1916 64 bit (AMD64)]\n",
      "2021-03-01 14:33:03.687516\n"
     ]
    }
   ],
   "source": [
    "import sys as s\n",
    "import datetime as dt\n",
    "print(s.version)\n",
    "n = dt.datetime.now()\n",
    "print(str(n))"
   ]
  },
  {
   "cell_type": "markdown",
   "metadata": {},
   "source": [
    "# Task 2\n",
    "Write a Python program to display the first and last colors from the following list.\n",
    "\n",
    "color_list = [\"Red\",\"Green\",\"White\" ,\"Black\"]"
   ]
  },
  {
   "cell_type": "code",
   "execution_count": 12,
   "metadata": {},
   "outputs": [
    {
     "name": "stdout",
     "output_type": "stream",
     "text": [
      "Red Black\n",
      "Red Black\n",
      "Red\n",
      "['Red', 'Black']\n"
     ]
    }
   ],
   "source": [
    "color_list = [\"Red\",\"Green\",\"White\" ,\"Black\"]\n",
    "print(color_list[0], color_list[-1])\n",
    "print(color_list[0], color_list[len(color_list)-1])\n",
    "print(color_list[-len(color_list)])\n",
    "print(color_list[::3])"
   ]
  },
  {
   "cell_type": "markdown",
   "metadata": {},
   "source": [
    "# Task 3\n",
    "Write a Python program that accepts an integer (n) and computes the value of n+nn+nnn. \n",
    "\n",
    "Sample value of n is 5\n",
    "\n",
    "Expected Result : 615\n"
   ]
  },
  {
   "cell_type": "code",
   "execution_count": 13,
   "metadata": {},
   "outputs": [
    {
     "name": "stdout",
     "output_type": "stream",
     "text": [
      "Enter an integer 5\n"
     ]
    },
    {
     "data": {
      "text/plain": [
       "615"
      ]
     },
     "execution_count": 13,
     "metadata": {},
     "output_type": "execute_result"
    }
   ],
   "source": [
    "V = input(\"Enter an integer \")\n",
    "R = int(V) + int(V*2) + int(V*3)\n",
    "R"
   ]
  },
  {
   "cell_type": "code",
   "execution_count": 14,
   "metadata": {},
   "outputs": [
    {
     "name": "stdout",
     "output_type": "stream",
     "text": [
      "Enter an integer 5\n"
     ]
    },
    {
     "data": {
      "text/plain": [
       "615"
      ]
     },
     "execution_count": 14,
     "metadata": {},
     "output_type": "execute_result"
    }
   ],
   "source": [
    "V = int(input(\"Enter an integer \"))\n",
    "R = V + (V*10+V) +(V*100+V*10+V)\n",
    "R"
   ]
  },
  {
   "cell_type": "markdown",
   "metadata": {},
   "source": [
    "# Task 4\n",
    "Write a Python program to find whether a given number (accept from the user) is even or odd, print out an appropriate message to the user."
   ]
  },
  {
   "cell_type": "code",
   "execution_count": 16,
   "metadata": {},
   "outputs": [
    {
     "name": "stdout",
     "output_type": "stream",
     "text": [
      "Enter the target number please 15\n",
      "the number 15 is odd\n"
     ]
    }
   ],
   "source": [
    "G = int(input(\"Enter the target number please \"))\n",
    "if G%2==0:\n",
    "    print(f\"the number {G} is even\")\n",
    "else:\n",
    "    print(f\"the number {G} is odd\")"
   ]
  },
  {
   "cell_type": "code",
   "execution_count": 17,
   "metadata": {
    "scrolled": true
   },
   "outputs": [
    {
     "name": "stdout",
     "output_type": "stream",
     "text": [
      "Enter the target number please 17\n",
      "the number 17 is odd\n"
     ]
    }
   ],
   "source": [
    "def is_even(N):\n",
    "    return N%2==0\n",
    "\n",
    "G = int(input(\"Enter the target number please \"))\n",
    "if(is_even(G)):\n",
    "    print(f\"the number {G} is even\")\n",
    "else:\n",
    "    print(f\"the number {G} is odd\")"
   ]
  },
  {
   "cell_type": "code",
   "execution_count": 22,
   "metadata": {},
   "outputs": [
    {
     "name": "stdout",
     "output_type": "stream",
     "text": [
      "Enter the target number please 55\n",
      "the number 55 is odd\n"
     ]
    }
   ],
   "source": [
    "G = int(input(\"Enter the target number please \"))\n",
    "\n",
    "print(f\"the number {G} is even\") if G%2==0 else print(f\"the number {G} is odd\")\n"
   ]
  },
  {
   "cell_type": "markdown",
   "metadata": {},
   "source": [
    "# Task 5\n",
    "Write a Python program to check whether a specified value is contained in a group of values.\n",
    "\n",
    "* Test Data :\n",
    "* 3 -> [1, 5, 8, 3] : True\n",
    "* -1 -> [1, 5, 8, 3] : False\n"
   ]
  },
  {
   "cell_type": "code",
   "execution_count": 23,
   "metadata": {
    "scrolled": true
   },
   "outputs": [
    {
     "name": "stdout",
     "output_type": "stream",
     "text": [
      "Enter a value 4\n",
      "False\n"
     ]
    }
   ],
   "source": [
    "L = [1, 5, 8, 3]\n",
    "v = int(input(\"Enter a value \"))\n",
    "if v in L:\n",
    "    print(True)\n",
    "else:\n",
    "    print(False)"
   ]
  },
  {
   "cell_type": "code",
   "execution_count": 24,
   "metadata": {},
   "outputs": [
    {
     "name": "stdout",
     "output_type": "stream",
     "text": [
      "Enter a value 3\n",
      "True\n"
     ]
    }
   ],
   "source": [
    "L = [1, 5, 8, 3]\n",
    "v = int(input(\"Enter a value \"))\n",
    "print(v in L)"
   ]
  },
  {
   "cell_type": "markdown",
   "metadata": {},
   "source": [
    "# Task 6\n",
    "Write a Python program to print all even numbers from a given numbers list in the same order and stop the printing if any numbers that come after 237 in the sequence.\n",
    "\n",
    "\n",
    "Sample numbers list :\n",
    "\n",
    "\n",
    "numbers = [    \n",
    "    386, 462, 47, 418, 907, 344, 236, 375, 823, 566, 597, 978, 328, 615, 953, 345, \n",
    "    399, 162, 758, 219, 918, 237, 412, 566, 826, 248, 866, 950, 626, 949, 687, 217, \n",
    "    815, 67, 104, 58, 512, 24, 892, 894, 767, 553, 81, 379, 843, 831, 445, 742, 717, \n",
    "    958,743, 527\n",
    "    ]"
   ]
  },
  {
   "cell_type": "code",
   "execution_count": 29,
   "metadata": {},
   "outputs": [
    {
     "name": "stdout",
     "output_type": "stream",
     "text": [
      "386 462 418 344 236 566 978 328 162 758 918 "
     ]
    }
   ],
   "source": [
    "numbers = [386, 462, 47, 418, 907, 344, 236, 375, 823, 566, 597, 978, 328, 615, 953, 345, 399, 162, 758, 219, 918, 237, 412, 566, 826, 248, 866, 950, 626, 949, 687, 217, 815, 67, 104, 58, 512, 24, 892, 894, 767, 553, 81, 379, 843, 831, 445, 742, 717, 958,743, 527 ]\n",
    "\n",
    "for x in numbers:\n",
    "    if x==237:\n",
    "        break\n",
    "    if(is_even(x)):\n",
    "        print(x, end=\" \")\n"
   ]
  },
  {
   "cell_type": "code",
   "execution_count": 30,
   "metadata": {},
   "outputs": [],
   "source": [
    "def is_odd(N):\n",
    "    return N%2!=0"
   ]
  },
  {
   "cell_type": "markdown",
   "metadata": {},
   "source": [
    "# Task 7\n",
    "Write a Python program to print out a set containing all the colors from color_list_1 which are not present in color_list_2. \n",
    "\n",
    "Test Data :\n",
    "\n",
    "color_list_1 = set([\"White\", \"Black\", \"Red\"])\n",
    "\n",
    "color_list_2 = set([\"Red\", \"Green\"])\n",
    "\n",
    "Expected Output :\n",
    "{'Black', 'White'}"
   ]
  },
  {
   "cell_type": "code",
   "execution_count": 31,
   "metadata": {},
   "outputs": [
    {
     "data": {
      "text/plain": [
       "{'Black', 'White'}"
      ]
     },
     "execution_count": 31,
     "metadata": {},
     "output_type": "execute_result"
    }
   ],
   "source": [
    "color_list_1 = set([\"White\", \"Black\", \"Red\"])\n",
    "color_list_2 = set([\"Red\", \"Green\"])\n",
    "color_list_1.difference(color_list_2)"
   ]
  },
  {
   "cell_type": "markdown",
   "metadata": {},
   "source": [
    "# Task 8\n",
    "Write a Python program that will accept the base and height of a triangle and compute the area."
   ]
  },
  {
   "cell_type": "code",
   "execution_count": 32,
   "metadata": {
    "scrolled": true
   },
   "outputs": [
    {
     "name": "stdout",
     "output_type": "stream",
     "text": [
      "Enter the base 12\n",
      "Enter the height14\n",
      "the area is =  84.0\n"
     ]
    }
   ],
   "source": [
    "Base = float(input(\"Enter the base \"))\n",
    "Height = float(input(\"Enter the height \"))\n",
    "\n",
    "print(\"the area is = \", 0.5*Base*Height)"
   ]
  },
  {
   "cell_type": "code",
   "execution_count": 37,
   "metadata": {},
   "outputs": [],
   "source": [
    "# Base, Height = input(\"Enter the base and the height; respectively \")\n",
    "# print(\"the area is = \", 0.5*float(Base)*float(Height))"
   ]
  },
  {
   "cell_type": "markdown",
   "metadata": {},
   "source": [
    "# Task 9\n",
    "Write a Python program to compute the distance between the points (x1, y1) and (x2, y2).\n",
    "\n",
    "$$ d = \\sqrt {\\left( {x_1 - x_2 } \\right)^2 + \\left( {y_1 - y_2 } \\right)^2 } $$ "
   ]
  },
  {
   "cell_type": "code",
   "execution_count": 40,
   "metadata": {},
   "outputs": [
    {
     "data": {
      "text/plain": [
       "2.8284271247461903"
      ]
     },
     "execution_count": 40,
     "metadata": {},
     "output_type": "execute_result"
    }
   ],
   "source": [
    "import math as m\n",
    "p1 = (3, 4)\n",
    "p2 = (5, 6)\n",
    "d =m.sqrt((p1[0]-p2[0])**2 + (p1[1]-p2[1])**2)\n",
    "d"
   ]
  }
 ],
 "metadata": {
  "kernelspec": {
   "display_name": "Python 3 (ipykernel)",
   "language": "python",
   "name": "python3"
  },
  "language_info": {
   "codemirror_mode": {
    "name": "ipython",
    "version": 3
   },
   "file_extension": ".py",
   "mimetype": "text/x-python",
   "name": "python",
   "nbconvert_exporter": "python",
   "pygments_lexer": "ipython3",
   "version": "3.10.4"
  }
 },
 "nbformat": 4,
 "nbformat_minor": 4
}
